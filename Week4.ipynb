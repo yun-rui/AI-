{
  "nbformat": 4,
  "nbformat_minor": 0,
  "metadata": {
    "colab": {
      "provenance": []
    },
    "kernelspec": {
      "name": "python3",
      "display_name": "Python 3"
    },
    "language_info": {
      "name": "python"
    }
  },
  "cells": [
    {
      "cell_type": "code",
      "execution_count": 34,
      "metadata": {
        "id": "u_CLYYhXZvIt"
      },
      "outputs": [],
      "source": [
        "import torch\n",
        "import torch.optim as optim\n",
        "# 데이터 정의하기\n",
        "x_train = torch.FloatTensor([[40],[48],[56],[64],[72],[80]]) #40~80인 범위를 모두 만족하도록 각 사이를 8으로 설정\n",
        "y_train = torch.FloatTensor([[0.5],[1.2],[1.9],[2.6],[3.3],[4.0]]) #0.5~4.0인 범위를 모두 만족하도록 각 사이를 7로 설정\n",
        "# hypothesis 초기화\n",
        "W = torch.zeros(1,requires_grad = True)\n",
        "b = torch.zeros(1,requires_grad = True)"
      ]
    },
    {
      "cell_type": "code",
      "source": [
        "#Optimizer 정의\n",
        "optimizer = torch.optim.SGD([W,b],lr=0.01) \n",
        "nb_epochs = 1000\n",
        "for epoch in range(nb_epochs+1) :\n",
        "  #H(x)계산\n",
        "  hypothesis = x_train*W + b\n",
        "  #cost 계산\n",
        "  cost = torch.mean((hypothesis-y_train)**2)\n",
        "  #Optimizer로 학습\n",
        "  optimizer.zero_grad()\n",
        "  cost.backward()\n",
        "  optimizer.step()\n",
        "  #100번마다 로그 출력\n",
        "  if epoch % 100 == 0 :\n",
        "    print('Epoch {:4d}/{} W: {:.3f}, b: {:.3f} Cost: {:.6f}'.format(epoch,nb_epochs,W.item(),b.item(),cost.item()))"
      ],
      "metadata": {
        "colab": {
          "base_uri": "https://localhost:8080/"
        },
        "id": "-Z78VzE2o5Wp",
        "outputId": "5063bf75-ca09-40aa-c01f-93d63bca2405"
      },
      "execution_count": 35,
      "outputs": [
        {
          "output_type": "stream",
          "name": "stdout",
          "text": [
            "Epoch    0/1000 W: 3.027, b: 0.045 Cost: 6.491666\n",
            "Epoch  100/1000 W: nan, b: nan Cost: nan\n",
            "Epoch  200/1000 W: nan, b: nan Cost: nan\n",
            "Epoch  300/1000 W: nan, b: nan Cost: nan\n",
            "Epoch  400/1000 W: nan, b: nan Cost: nan\n",
            "Epoch  500/1000 W: nan, b: nan Cost: nan\n",
            "Epoch  600/1000 W: nan, b: nan Cost: nan\n",
            "Epoch  700/1000 W: nan, b: nan Cost: nan\n",
            "Epoch  800/1000 W: nan, b: nan Cost: nan\n",
            "Epoch  900/1000 W: nan, b: nan Cost: nan\n",
            "Epoch 1000/1000 W: nan, b: nan Cost: nan\n"
          ]
        }
      ]
    },
    {
      "cell_type": "code",
      "source": [
        "#위처럼 nan값으로 정의되는 문제점 생김 -> overshooting인가는 의문이 생겨서 learning rate줄여봄\n",
        "import torch\n",
        "import torch.optim as optim\n",
        "# 데이터 정의하기\n",
        "x_train = torch.FloatTensor([[40],[48],[56],[64],[72],[80]]) #40~80인 범위를 모두 만족하도록 각 사이를 8으로 설정\n",
        "y_train = torch.FloatTensor([[0.5],[1.2],[1.9],[2.6],[3.3],[4.0]]) #0.5~4.0인 범위를 모두 만족하도록 각 사이를 7로 설정\n",
        "# hypothesis 초기화\n",
        "W = torch.zeros(1,requires_grad = True)\n",
        "b = torch.zeros(1,requires_grad = True)\n",
        "#Optimizer 정의\n",
        "optimizer = torch.optim.SGD([W,b],lr=0.0000001)\n",
        "nb_epochs = 1000\n",
        "for epoch in range(nb_epochs+1) :\n",
        "  #H(x)계산\n",
        "  hypothesis = x_train*W + b\n",
        "  #cost 계산\n",
        "  cost = torch.mean((hypothesis-y_train)**2)\n",
        "  #Optimizer로 학습\n",
        "  optimizer.zero_grad()\n",
        "  cost.backward()\n",
        "  optimizer.step()\n",
        "  #100번마다 로그 출력\n",
        "  if epoch % 100 == 0 :\n",
        "    print('Epoch {:4d}/{} W: {:.3f}, b: {:.3f} Cost: {:.6f}'.format(epoch,nb_epochs,W.item(),b.item(),cost.item()))\n"
      ],
      "metadata": {
        "colab": {
          "base_uri": "https://localhost:8080/"
        },
        "id": "tSNhR0RprQkb",
        "outputId": "8dd14bb7-414e-44ad-cfea-2fc6418e9510"
      },
      "execution_count": 36,
      "outputs": [
        {
          "output_type": "stream",
          "name": "stdout",
          "text": [
            "Epoch    0/1000 W: 0.000, b: 0.000 Cost: 6.491666\n",
            "Epoch  100/1000 W: 0.003, b: 0.000 Cost: 5.641129\n",
            "Epoch  200/1000 W: 0.006, b: 0.000 Cost: 4.910205\n",
            "Epoch  300/1000 W: 0.008, b: 0.000 Cost: 4.282075\n",
            "Epoch  400/1000 W: 0.010, b: 0.000 Cost: 3.742283\n",
            "Epoch  500/1000 W: 0.013, b: 0.000 Cost: 3.278406\n",
            "Epoch  600/1000 W: 0.015, b: 0.000 Cost: 2.879765\n",
            "Epoch  700/1000 W: 0.016, b: 0.000 Cost: 2.537187\n",
            "Epoch  800/1000 W: 0.018, b: 0.000 Cost: 2.242785\n",
            "Epoch  900/1000 W: 0.020, b: 0.000 Cost: 1.989789\n",
            "Epoch 1000/1000 W: 0.021, b: 0.000 Cost: 1.772374\n"
          ]
        }
      ]
    }
  ]
}