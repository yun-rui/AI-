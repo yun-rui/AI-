{
  "nbformat": 4,
  "nbformat_minor": 0,
  "metadata": {
    "colab": {
      "provenance": [],
      "collapsed_sections": []
    },
    "kernelspec": {
      "name": "python3",
      "display_name": "Python 3"
    },
    "language_info": {
      "name": "python"
    }
  },
  "cells": [
    {
      "cell_type": "code",
      "metadata": {
        "colab": {
          "base_uri": "https://localhost:8080/"
        },
        "id": "gV1iJazc2fxc",
        "outputId": "429eae1b-727c-4bdc-d590-e395dcb9ef74"
      },
      "source": [
        "import torch\n",
        "import torch.nn as nn\n",
        "import torch.nn.functional as F\n",
        "import torch.optim as optim\n",
        "\n",
        "torch.manual_seed(1)\n",
        "\n",
        "# Q1) 6개 데이터 샘플을 training 데이터로 입력하시오. 입력값은 (키, 몸무게)(가능한 현실에 있을법한 키(cm)와 몸무게(kg) 값으로 입력하시오.), 출력값은 비만인 경우 (1) 비만이 아닌 경우는 (0)으로 표기할 것.  \n",
        "x_data =  [[155,45],[160,67],[165,48],[170,66],[175,85],[180,94]]\n",
        "y_data =  [[0],[1],[0],[0],[1],[1]]\n",
        "x_train = torch.FloatTensor(x_data)\n",
        "y_train = torch.FloatTensor(y_data)\n",
        "\n",
        "# 모델 초기화\n",
        "W = torch.zeros((2, 1), requires_grad=True)\n",
        "b = torch.zeros(1, requires_grad=True)\n",
        "\n",
        "# Q2) 학습이 진행되도록 알맞은 Optimizer, 학습률을 변경하여 입력하시오. 왜 학습률을 이렇게 하였는가 주석으로 반드시 설명하시오.\n",
        "optimizer = optim.SGD([W,b],lr=0.001) #lr가 1일 때 nan값으로 나와서 overshooting되는 상황이라 저번주차처럼 lr를 줄임, 더 줄어들거나 늘어나는 것보다 0.001일때가 학습이 잘 진행\n",
        "\n",
        "# Q3) 학습이 잘 진행되도록 알맞게 epoch 수를 조정 하시오. 왜 epoch 수를 이렇게 설정 하였는가 주석으로 반드시 설명하시오.\n",
        "nb_epochs = 1000 #0.xx가 될때까지 줄어드는 gap차이를 보이기 위해\n",
        "for epoch in range(nb_epochs + 1):\n",
        "\n",
        "    # Cost 계산\n",
        "    hypothesis = torch.sigmoid(x_train.matmul(W) + b) # or .mm or @\n",
        "    cost = -(y_train * torch.log(hypothesis) + \n",
        "             (1 - y_train) * torch.log(1 - hypothesis)).mean()\n",
        "\n",
        "    # cost로 H(x) 개선\n",
        "    optimizer.zero_grad()\n",
        "    cost.backward()\n",
        "    optimizer.step()\n",
        "\n",
        "    # 100번마다 로그 출력\n",
        "    if epoch % 100 == 0:\n",
        "        print('Epoch {:4d}/{} Cost: {:.6f}'.format(\n",
        "            epoch, nb_epochs, cost.item()\n",
        "        ))"
      ],
      "execution_count": 35,
      "outputs": [
        {
          "output_type": "stream",
          "name": "stdout",
          "text": [
            "Epoch    0/1000 Cost: 0.693147\n",
            "Epoch  100/1000 Cost: 0.243185\n",
            "Epoch  200/1000 Cost: 0.191401\n",
            "Epoch  300/1000 Cost: 0.152019\n",
            "Epoch  400/1000 Cost: 0.116443\n",
            "Epoch  500/1000 Cost: 0.094589\n",
            "Epoch  600/1000 Cost: 0.090446\n",
            "Epoch  700/1000 Cost: 0.087025\n",
            "Epoch  800/1000 Cost: 0.083846\n",
            "Epoch  900/1000 Cost: 0.080883\n",
            "Epoch 1000/1000 Cost: 0.078111\n"
          ]
        }
      ]
    },
    {
      "cell_type": "code",
      "metadata": {
        "colab": {
          "base_uri": "https://localhost:8080/"
        },
        "id": "GIoZFglt3Hwr",
        "outputId": "4792b3f9-95a9-4dd5-aeaf-f6ea89e62b41"
      },
      "source": [
        "# Q4) x_test에 적당한 입력(키, 몸무게)를 입력하여 결과를 확인하시오.\n",
        "x_test = torch.FloatTensor([175,78])\n",
        "hypothesis = torch.sigmoid(x_test.matmul(W) + b)\n",
        "cost = -(y_train * torch.log(hypothesis) + \n",
        "             (1 - y_train) * torch.log(1 - hypothesis)).mean()\n",
        "print (hypothesis >= torch.FloatTensor([0.5]))"
      ],
      "execution_count": 36,
      "outputs": [
        {
          "output_type": "stream",
          "name": "stdout",
          "text": [
            "tensor([True])\n"
          ]
        }
      ]
    }
  ]
}